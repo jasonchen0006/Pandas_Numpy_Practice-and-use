{
 "cells": [
  {
   "cell_type": "code",
   "execution_count": 1,
   "id": "cdb654b8",
   "metadata": {},
   "outputs": [],
   "source": [
    "import pandas as pd\n",
    "import numpy as np\n",
    "import os"
   ]
  },
  {
   "cell_type": "code",
   "execution_count": 26,
   "id": "271ad99e",
   "metadata": {
    "scrolled": true
   },
   "outputs": [
    {
     "name": "stdout",
     "output_type": "stream",
     "text": [
      "  location          sku        asin  price quantity\n",
      "0       de  SXM-1043-G1  B01D8644JU  24.99       91\n",
      "1       de  SXM-2086-G1  B07Y27D5RY  34.99       18\n",
      "2       de  SXM-2628-G1  B07ZLZBL18  13.95       47\n",
      "3       de  SXM-2628-G2  B07ZM27ZC1  19.99       11\n",
      "4       de  SXM-2628-G3  B07ZM1WY1P  27.99       27\n"
     ]
    }
   ],
   "source": [
    "df1 = pd.read_csv('./inventory/de.txt',sep= '\\s+')\n",
    "df1.head()\n",
    "#f2 = df1.loc[:,'quantity']\n",
    "#f2.head()\n",
    "#print(df1[['sku','asin','price','quantity']])\n",
    "\n",
    "df1.insert(0,'location','de')\n",
    "#df1.head()\n",
    "print(df1[['location','sku','asin','price','quantity']].head())"
   ]
  },
  {
   "cell_type": "code",
   "execution_count": null,
   "id": "10a9a853",
   "metadata": {},
   "outputs": [],
   "source": []
  },
  {
   "cell_type": "code",
   "execution_count": 42,
   "id": "b6a6c5c8",
   "metadata": {},
   "outputs": [],
   "source": [
    "files = [file for file in os.listdir('./inventory')]\n",
    "\n",
    "all_inventory_data = pd.DataFrame()\n",
    "\n",
    "#df = pd.read_csv(\"./inventory\"+'/'+files[0],sep='\\s+')\n",
    "#df.head()\n",
    "#df.insert(0,'location',files[0].split('.')[0])\n",
    "#df[[\"location\",\"sku\",\"asin\",\"price\",\"quantity\"]].head()\n",
    "\n",
    "for file in files:\n",
    "    df = pd.read_csv(\"./inventory\"+'/'+files[0],sep='\\t')\n",
    "    df.insert(0,'location',file.split('.')[0])\n",
    "    all_inventory_data = pd.concat([all_inventory_data,df])\n",
    "    \n",
    "all_inventory_data[[\"location\",\"sku\",\"asin\",\"price\",\"quantity\"]].to_csv(\"all_inventory_data.csv\",index=False)\n",
    "\n"
   ]
  },
  {
   "cell_type": "code",
   "execution_count": null,
   "id": "9312d95f",
   "metadata": {},
   "outputs": [],
   "source": []
  }
 ],
 "metadata": {
  "kernelspec": {
   "display_name": "Python 3",
   "language": "python",
   "name": "python3"
  },
  "language_info": {
   "codemirror_mode": {
    "name": "ipython",
    "version": 3
   },
   "file_extension": ".py",
   "mimetype": "text/x-python",
   "name": "python",
   "nbconvert_exporter": "python",
   "pygments_lexer": "ipython3",
   "version": "3.8.8"
  }
 },
 "nbformat": 4,
 "nbformat_minor": 5
}
